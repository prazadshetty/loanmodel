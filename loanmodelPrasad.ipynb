{
 "cells": [
  {
   "cell_type": "code",
   "execution_count": 1,
   "metadata": {},
   "outputs": [],
   "source": [
    "import pandas as pd\n",
    "import numpy as np\n",
    "import matplotlib.pyplot as plt\n",
    "import seaborn as sns"
   ]
  },
  {
   "cell_type": "code",
   "execution_count": 2,
   "metadata": {},
   "outputs": [
    {
     "name": "stderr",
     "output_type": "stream",
     "text": [
      "C:\\Users\\prasad\\Anaconda3\\lib\\site-packages\\IPython\\core\\interactiveshell.py:2785: DtypeWarning: Columns (0,47) have mixed types. Specify dtype option on import or set low_memory=False.\n",
      "  interactivity=interactivity, compiler=compiler, result=result)\n"
     ]
    },
    {
     "name": "stdout",
     "output_type": "stream",
     "text": [
      "<class 'pandas.core.frame.DataFrame'>\n",
      "RangeIndex: 42542 entries, 0 to 42541\n",
      "Data columns (total 144 columns):\n",
      "id                                            3 non-null object\n",
      "member_id                                     0 non-null float64\n",
      "loan_amnt                                     42535 non-null float64\n",
      "funded_amnt                                   42535 non-null float64\n",
      "funded_amnt_inv                               42535 non-null float64\n",
      "term                                          42535 non-null object\n",
      "int_rate                                      42535 non-null object\n",
      "installment                                   42535 non-null float64\n",
      "grade                                         42535 non-null object\n",
      "sub_grade                                     42535 non-null object\n",
      "emp_title                                     39909 non-null object\n",
      "emp_length                                    41423 non-null object\n",
      "home_ownership                                42535 non-null object\n",
      "annual_inc                                    42531 non-null float64\n",
      "verification_status                           42535 non-null object\n",
      "issue_d                                       42535 non-null object\n",
      "loan_status                                   42535 non-null object\n",
      "pymnt_plan                                    42535 non-null object\n",
      "url                                           0 non-null float64\n",
      "desc                                          29242 non-null object\n",
      "purpose                                       42535 non-null object\n",
      "title                                         42522 non-null object\n",
      "zip_code                                      42535 non-null object\n",
      "addr_state                                    42535 non-null object\n",
      "dti                                           42535 non-null float64\n",
      "delinq_2yrs                                   42506 non-null float64\n",
      "earliest_cr_line                              42506 non-null object\n",
      "inq_last_6mths                                42506 non-null float64\n",
      "mths_since_last_delinq                        15609 non-null float64\n",
      "mths_since_last_record                        3651 non-null float64\n",
      "open_acc                                      42506 non-null float64\n",
      "pub_rec                                       42506 non-null float64\n",
      "revol_bal                                     42535 non-null float64\n",
      "revol_util                                    42445 non-null object\n",
      "total_acc                                     42506 non-null float64\n",
      "initial_list_status                           42535 non-null object\n",
      "out_prncp                                     42535 non-null float64\n",
      "out_prncp_inv                                 42535 non-null float64\n",
      "total_pymnt                                   42535 non-null float64\n",
      "total_pymnt_inv                               42535 non-null float64\n",
      "total_rec_prncp                               42535 non-null float64\n",
      "total_rec_int                                 42535 non-null float64\n",
      "total_rec_late_fee                            42535 non-null float64\n",
      "recoveries                                    42535 non-null float64\n",
      "collection_recovery_fee                       42535 non-null float64\n",
      "last_pymnt_d                                  42452 non-null object\n",
      "last_pymnt_amnt                               42535 non-null float64\n",
      "next_pymnt_d                                  2749 non-null object\n",
      "last_credit_pull_d                            42531 non-null object\n",
      "collections_12_mths_ex_med                    42390 non-null float64\n",
      "mths_since_last_major_derog                   0 non-null float64\n",
      "policy_code                                   42535 non-null float64\n",
      "application_type                              42535 non-null object\n",
      "annual_inc_joint                              0 non-null float64\n",
      "dti_joint                                     0 non-null float64\n",
      "verification_status_joint                     0 non-null float64\n",
      "acc_now_delinq                                42506 non-null float64\n",
      "tot_coll_amt                                  0 non-null float64\n",
      "tot_cur_bal                                   0 non-null float64\n",
      "open_acc_6m                                   0 non-null float64\n",
      "open_act_il                                   0 non-null float64\n",
      "open_il_12m                                   0 non-null float64\n",
      "open_il_24m                                   0 non-null float64\n",
      "mths_since_rcnt_il                            0 non-null float64\n",
      "total_bal_il                                  0 non-null float64\n",
      "il_util                                       0 non-null float64\n",
      "open_rv_12m                                   0 non-null float64\n",
      "open_rv_24m                                   0 non-null float64\n",
      "max_bal_bc                                    0 non-null float64\n",
      "all_util                                      0 non-null float64\n",
      "total_rev_hi_lim                              0 non-null float64\n",
      "inq_fi                                        0 non-null float64\n",
      "total_cu_tl                                   0 non-null float64\n",
      "inq_last_12m                                  0 non-null float64\n",
      "acc_open_past_24mths                          0 non-null float64\n",
      "avg_cur_bal                                   0 non-null float64\n",
      "bc_open_to_buy                                0 non-null float64\n",
      "bc_util                                       0 non-null float64\n",
      "chargeoff_within_12_mths                      42390 non-null float64\n",
      "delinq_amnt                                   42506 non-null float64\n",
      "mo_sin_old_il_acct                            0 non-null float64\n",
      "mo_sin_old_rev_tl_op                          0 non-null float64\n",
      "mo_sin_rcnt_rev_tl_op                         0 non-null float64\n",
      "mo_sin_rcnt_tl                                0 non-null float64\n",
      "mort_acc                                      0 non-null float64\n",
      "mths_since_recent_bc                          0 non-null float64\n",
      "mths_since_recent_bc_dlq                      0 non-null float64\n",
      "mths_since_recent_inq                         0 non-null float64\n",
      "mths_since_recent_revol_delinq                0 non-null float64\n",
      "num_accts_ever_120_pd                         0 non-null float64\n",
      "num_actv_bc_tl                                0 non-null float64\n",
      "num_actv_rev_tl                               0 non-null float64\n",
      "num_bc_sats                                   0 non-null float64\n",
      "num_bc_tl                                     0 non-null float64\n",
      "num_il_tl                                     0 non-null float64\n",
      "num_op_rev_tl                                 0 non-null float64\n",
      "num_rev_accts                                 0 non-null float64\n",
      "num_rev_tl_bal_gt_0                           0 non-null float64\n",
      "num_sats                                      0 non-null float64\n",
      "num_tl_120dpd_2m                              0 non-null float64\n",
      "num_tl_30dpd                                  0 non-null float64\n",
      "num_tl_90g_dpd_24m                            0 non-null float64\n",
      "num_tl_op_past_12m                            0 non-null float64\n",
      "pct_tl_nvr_dlq                                0 non-null float64\n",
      "percent_bc_gt_75                              0 non-null float64\n",
      "pub_rec_bankruptcies                          41170 non-null float64\n",
      "tax_liens                                     42430 non-null float64\n",
      "tot_hi_cred_lim                               0 non-null float64\n",
      "total_bal_ex_mort                             0 non-null float64\n",
      "total_bc_limit                                0 non-null float64\n",
      "total_il_high_credit_limit                    0 non-null float64\n",
      "revol_bal_joint                               0 non-null float64\n",
      "sec_app_earliest_cr_line                      0 non-null float64\n",
      "sec_app_inq_last_6mths                        0 non-null float64\n",
      "sec_app_mort_acc                              0 non-null float64\n",
      "sec_app_open_acc                              0 non-null float64\n",
      "sec_app_revol_util                            0 non-null float64\n",
      "sec_app_open_act_il                           0 non-null float64\n",
      "sec_app_num_rev_accts                         0 non-null float64\n",
      "sec_app_chargeoff_within_12_mths              0 non-null float64\n",
      "sec_app_collections_12_mths_ex_med            0 non-null float64\n",
      "sec_app_mths_since_last_major_derog           0 non-null float64\n",
      "hardship_flag                                 42535 non-null object\n",
      "hardship_type                                 0 non-null float64\n",
      "hardship_reason                               0 non-null float64\n",
      "hardship_status                               0 non-null float64\n",
      "deferral_term                                 0 non-null float64\n",
      "hardship_amount                               0 non-null float64\n",
      "hardship_start_date                           0 non-null float64\n",
      "hardship_end_date                             0 non-null float64\n",
      "payment_plan_start_date                       0 non-null float64\n",
      "hardship_length                               0 non-null float64\n",
      "hardship_dpd                                  0 non-null float64\n",
      "hardship_loan_status                          0 non-null float64\n",
      "orig_projected_additional_accrued_interest    0 non-null float64\n",
      "hardship_payoff_balance_amount                0 non-null float64\n",
      "hardship_last_payment_amount                  0 non-null float64\n",
      "debt_settlement_flag                          42535 non-null object\n",
      "debt_settlement_flag_date                     160 non-null object\n",
      "settlement_status                             160 non-null object\n",
      "settlement_date                               160 non-null object\n",
      "settlement_amount                             160 non-null float64\n",
      "settlement_percentage                         160 non-null float64\n",
      "settlement_term                               160 non-null float64\n",
      "dtypes: float64(115), object(29)\n",
      "memory usage: 46.7+ MB\n"
     ]
    }
   ],
   "source": [
    "#importing the csv file\n",
    "loan=pd.read_csv(r'C:\\Users\\prasad\\Desktop\\nutanxt\\dataset (1)\\dataset\\LoanStats3a.csv\\LoanStats3a.csv')\n",
    "loan.info(verbose=True,null_counts=True)"
   ]
  },
  {
   "cell_type": "code",
   "execution_count": 3,
   "metadata": {},
   "outputs": [],
   "source": [
    "df=loan[['loan_status','dti','purpose','term','int_rate','installment','issue_d','loan_amnt','home_ownership','annual_inc','recoveries','policy_code','application_type']]"
   ]
  },
  {
   "cell_type": "code",
   "execution_count": 4,
   "metadata": {},
   "outputs": [
    {
     "name": "stderr",
     "output_type": "stream",
     "text": [
      "C:\\Users\\prasad\\Anaconda3\\lib\\site-packages\\ipykernel_launcher.py:3: SettingWithCopyWarning: \n",
      "A value is trying to be set on a copy of a slice from a DataFrame.\n",
      "Try using .loc[row_indexer,col_indexer] = value instead\n",
      "\n",
      "See the caveats in the documentation: http://pandas.pydata.org/pandas-docs/stable/indexing.html#indexing-view-versus-copy\n",
      "  This is separate from the ipykernel package so we can avoid doing imports until\n"
     ]
    },
    {
     "data": {
      "text/html": [
       "<div>\n",
       "<style scoped>\n",
       "    .dataframe tbody tr th:only-of-type {\n",
       "        vertical-align: middle;\n",
       "    }\n",
       "\n",
       "    .dataframe tbody tr th {\n",
       "        vertical-align: top;\n",
       "    }\n",
       "\n",
       "    .dataframe thead th {\n",
       "        text-align: right;\n",
       "    }\n",
       "</style>\n",
       "<table border=\"1\" class=\"dataframe\">\n",
       "  <thead>\n",
       "    <tr style=\"text-align: right;\">\n",
       "      <th></th>\n",
       "      <th>loan_status</th>\n",
       "      <th>dti</th>\n",
       "      <th>purpose</th>\n",
       "      <th>term</th>\n",
       "      <th>int_rate</th>\n",
       "      <th>installment</th>\n",
       "      <th>issue_d</th>\n",
       "      <th>loan_amnt</th>\n",
       "      <th>home_ownership</th>\n",
       "      <th>annual_inc</th>\n",
       "      <th>recoveries</th>\n",
       "      <th>policy_code</th>\n",
       "      <th>application_type</th>\n",
       "      <th>year</th>\n",
       "    </tr>\n",
       "  </thead>\n",
       "  <tbody>\n",
       "    <tr>\n",
       "      <th>0</th>\n",
       "      <td>Fully Paid</td>\n",
       "      <td>27.65</td>\n",
       "      <td>credit_card</td>\n",
       "      <td>36 months</td>\n",
       "      <td>10.65%</td>\n",
       "      <td>162.87</td>\n",
       "      <td>Dec-11</td>\n",
       "      <td>5000.0</td>\n",
       "      <td>RENT</td>\n",
       "      <td>24000.0</td>\n",
       "      <td>0.0</td>\n",
       "      <td>1.0</td>\n",
       "      <td>Individual</td>\n",
       "      <td>11</td>\n",
       "    </tr>\n",
       "    <tr>\n",
       "      <th>1</th>\n",
       "      <td>Charged Off</td>\n",
       "      <td>1.00</td>\n",
       "      <td>car</td>\n",
       "      <td>60 months</td>\n",
       "      <td>15.27%</td>\n",
       "      <td>59.83</td>\n",
       "      <td>Dec-11</td>\n",
       "      <td>2500.0</td>\n",
       "      <td>RENT</td>\n",
       "      <td>30000.0</td>\n",
       "      <td>122.9</td>\n",
       "      <td>1.0</td>\n",
       "      <td>Individual</td>\n",
       "      <td>11</td>\n",
       "    </tr>\n",
       "    <tr>\n",
       "      <th>2</th>\n",
       "      <td>Fully Paid</td>\n",
       "      <td>8.72</td>\n",
       "      <td>small_business</td>\n",
       "      <td>36 months</td>\n",
       "      <td>15.96%</td>\n",
       "      <td>84.33</td>\n",
       "      <td>Dec-11</td>\n",
       "      <td>2400.0</td>\n",
       "      <td>RENT</td>\n",
       "      <td>12252.0</td>\n",
       "      <td>0.0</td>\n",
       "      <td>1.0</td>\n",
       "      <td>Individual</td>\n",
       "      <td>11</td>\n",
       "    </tr>\n",
       "    <tr>\n",
       "      <th>3</th>\n",
       "      <td>Fully Paid</td>\n",
       "      <td>20.00</td>\n",
       "      <td>other</td>\n",
       "      <td>36 months</td>\n",
       "      <td>13.49%</td>\n",
       "      <td>339.31</td>\n",
       "      <td>Dec-11</td>\n",
       "      <td>10000.0</td>\n",
       "      <td>RENT</td>\n",
       "      <td>49200.0</td>\n",
       "      <td>0.0</td>\n",
       "      <td>1.0</td>\n",
       "      <td>Individual</td>\n",
       "      <td>11</td>\n",
       "    </tr>\n",
       "    <tr>\n",
       "      <th>4</th>\n",
       "      <td>Fully Paid</td>\n",
       "      <td>17.94</td>\n",
       "      <td>other</td>\n",
       "      <td>60 months</td>\n",
       "      <td>12.69%</td>\n",
       "      <td>67.79</td>\n",
       "      <td>Dec-11</td>\n",
       "      <td>3000.0</td>\n",
       "      <td>RENT</td>\n",
       "      <td>80000.0</td>\n",
       "      <td>0.0</td>\n",
       "      <td>1.0</td>\n",
       "      <td>Individual</td>\n",
       "      <td>11</td>\n",
       "    </tr>\n",
       "  </tbody>\n",
       "</table>\n",
       "</div>"
      ],
      "text/plain": [
       "   loan_status    dti         purpose        term int_rate  installment  \\\n",
       "0   Fully Paid  27.65     credit_card   36 months   10.65%       162.87   \n",
       "1  Charged Off   1.00             car   60 months   15.27%        59.83   \n",
       "2   Fully Paid   8.72  small_business   36 months   15.96%        84.33   \n",
       "3   Fully Paid  20.00           other   36 months   13.49%       339.31   \n",
       "4   Fully Paid  17.94           other   60 months   12.69%        67.79   \n",
       "\n",
       "  issue_d  loan_amnt home_ownership  annual_inc  recoveries  policy_code  \\\n",
       "0  Dec-11     5000.0           RENT     24000.0         0.0          1.0   \n",
       "1  Dec-11     2500.0           RENT     30000.0       122.9          1.0   \n",
       "2  Dec-11     2400.0           RENT     12252.0         0.0          1.0   \n",
       "3  Dec-11    10000.0           RENT     49200.0         0.0          1.0   \n",
       "4  Dec-11     3000.0           RENT     80000.0         0.0          1.0   \n",
       "\n",
       "  application_type year  \n",
       "0       Individual   11  \n",
       "1       Individual   11  \n",
       "2       Individual   11  \n",
       "3       Individual   11  \n",
       "4       Individual   11  "
      ]
     },
     "execution_count": 4,
     "metadata": {},
     "output_type": "execute_result"
    }
   ],
   "source": [
    "#separate month and year from issue_d column\n",
    "year=df['issue_d'].str.split('-',n=1,expand=True)\n",
    "df['year']=year[1]\n",
    "df.head()"
   ]
  },
  {
   "cell_type": "code",
   "execution_count": 5,
   "metadata": {},
   "outputs": [
    {
     "name": "stderr",
     "output_type": "stream",
     "text": [
      "C:\\Users\\prasad\\Anaconda3\\lib\\site-packages\\pandas\\core\\frame.py:3694: SettingWithCopyWarning: \n",
      "A value is trying to be set on a copy of a slice from a DataFrame\n",
      "\n",
      "See the caveats in the documentation: http://pandas.pydata.org/pandas-docs/stable/indexing.html#indexing-view-versus-copy\n",
      "  errors=errors)\n"
     ]
    }
   ],
   "source": [
    "df.drop('issue_d',axis=1,inplace=True)"
   ]
  },
  {
   "cell_type": "code",
   "execution_count": 6,
   "metadata": {},
   "outputs": [],
   "source": [
    "#sort year column in assending order \n",
    "data=df.sort_values(by=['year'])"
   ]
  },
  {
   "cell_type": "code",
   "execution_count": 7,
   "metadata": {},
   "outputs": [],
   "source": [
    "#Fill the Null column with data\n",
    "data['annual_inc'].fillna(data['annual_inc'].mean(),inplace=True)\n",
    "data['loan_status'].fillna('Fully Paid',inplace=True)\n",
    "data['dti'].fillna(data['dti'].mean(),inplace=True)\n",
    "data['purpose'].fillna('car',inplace=True)\n",
    "data['term'].fillna('60 months',inplace=True)\n",
    "data['int_rate'].fillna('10.65%',inplace=True)\n",
    "data['installment'].fillna(data['installment'].mean(),inplace=True)\n",
    "data['loan_amnt'].fillna(data['loan_amnt'].mean(),inplace=True)\n",
    "data['recoveries'].fillna(data['recoveries'].mean(),inplace=True)\n",
    "data['policy_code'].fillna(data['policy_code'].median(),inplace=True)\n",
    "data['application_type'].fillna('Individual',inplace=True)\n",
    "data['home_ownership'].fillna('RENT',inplace=True)\n",
    "data['year'].fillna('2010',inplace=True)"
   ]
  },
  {
   "cell_type": "code",
   "execution_count": 8,
   "metadata": {},
   "outputs": [],
   "source": [
    "#transform the data for training and testing perpose\n",
    "from sklearn.preprocessing import LabelEncoder\n",
    "lb=LabelEncoder()\n",
    "data.iloc[:,0]=lb.fit_transform(data.iloc[:,0])\n",
    "data.iloc[:,2]=lb.fit_transform(data.iloc[:,2])\n",
    "data.iloc[:,3]=lb.fit_transform(data.iloc[:,3])\n",
    "data.iloc[:,4]=lb.fit_transform(data.iloc[:,4])\n",
    "data.iloc[:,7]=lb.fit_transform(data.iloc[:,7])\n",
    "data.iloc[:,11]=lb.fit_transform(data.iloc[:,11])\n",
    "data.iloc[:,12]=lb.fit_transform(data.iloc[:,12])"
   ]
  },
  {
   "cell_type": "code",
   "execution_count": 9,
   "metadata": {},
   "outputs": [
    {
     "name": "stderr",
     "output_type": "stream",
     "text": [
      "C:\\Users\\prasad\\Anaconda3\\lib\\site-packages\\sklearn\\cross_validation.py:41: DeprecationWarning: This module was deprecated in version 0.18 in favor of the model_selection module into which all the refactored classes and functions are moved. Also note that the interface of the new CV iterators are different from that of this module. This module will be removed in 0.20.\n",
      "  \"This module will be removed in 0.20.\", DeprecationWarning)\n"
     ]
    },
    {
     "data": {
      "text/plain": [
       "Index(['loan_status', 'dti', 'purpose', 'term', 'int_rate', 'installment',\n",
       "       'loan_amnt', 'home_ownership', 'annual_inc', 'recoveries',\n",
       "       'policy_code', 'application_type', 'year'],\n",
       "      dtype='object')"
      ]
     },
     "execution_count": 9,
     "metadata": {},
     "output_type": "execute_result"
    }
   ],
   "source": [
    "#import liberary to split the data\n",
    "from sklearn.cross_validation import train_test_split\n",
    "data.columns"
   ]
  },
  {
   "cell_type": "code",
   "execution_count": 14,
   "metadata": {},
   "outputs": [
    {
     "name": "stderr",
     "output_type": "stream",
     "text": [
      "C:\\Users\\prasad\\Anaconda3\\lib\\site-packages\\pandas\\core\\frame.py:3694: SettingWithCopyWarning: \n",
      "A value is trying to be set on a copy of a slice from a DataFrame\n",
      "\n",
      "See the caveats in the documentation: http://pandas.pydata.org/pandas-docs/stable/indexing.html#indexing-view-versus-copy\n",
      "  errors=errors)\n"
     ]
    }
   ],
   "source": [
    "#split the data year wise\n",
    "y=data[['loan_status','year']]\n",
    "x=data[['year','dti','purpose','term','int_rate','installment','loan_amnt','home_ownership','annual_inc','recoveries','policy_code','application_type']]\n",
    "\n",
    "xtrain=x[x['year']<=5]\n",
    "xtest=x[x['year']==1]\n",
    "ytrain=y[y['year']<=5]\n",
    "ytest=y[y['year']==1]\n",
    "xtrain\n",
    "ytest.drop('year',axis=1,inplace=True)\n",
    "ytrain.drop('year',axis=1,inplace=True)"
   ]
  },
  {
   "cell_type": "code",
   "execution_count": 15,
   "metadata": {},
   "outputs": [],
   "source": [
    "from sklearn.preprocessing import StandardScaler\n",
    "sc=StandardScaler()"
   ]
  },
  {
   "cell_type": "code",
   "execution_count": 16,
   "metadata": {},
   "outputs": [],
   "source": [
    "sc.fit(xtrain)\n",
    "X_train=sc.transform(xtrain)\n",
    "X_test=sc.transform(xtest)"
   ]
  },
  {
   "cell_type": "code",
   "execution_count": 17,
   "metadata": {},
   "outputs": [],
   "source": [
    "##model LOGISTIC REGRESSION\n",
    "\n",
    "from sklearn.linear_model import LogisticRegression\n",
    "model1=LogisticRegression()"
   ]
  },
  {
   "cell_type": "code",
   "execution_count": 18,
   "metadata": {},
   "outputs": [
    {
     "data": {
      "text/plain": [
       "KFold(n_splits=10, random_state=None, shuffle=False)"
      ]
     },
     "execution_count": 18,
     "metadata": {},
     "output_type": "execute_result"
    }
   ],
   "source": [
    "#KFold\n",
    "from sklearn.model_selection import KFold\n",
    "kf=KFold(n_splits=10)\n",
    "kf"
   ]
  },
  {
   "cell_type": "code",
   "execution_count": 19,
   "metadata": {},
   "outputs": [
    {
     "name": "stdout",
     "output_type": "stream",
     "text": [
      "[ 4255  4256  4257 ... 42539 42540 42541] [   0    1    2 ... 4252 4253 4254]\n",
      "[    0     1     2 ... 42539 42540 42541] [4255 4256 4257 ... 8507 8508 8509]\n",
      "[    0     1     2 ... 42539 42540 42541] [ 8510  8511  8512 ... 12761 12762 12763]\n",
      "[    0     1     2 ... 42539 42540 42541] [12764 12765 12766 ... 17015 17016 17017]\n",
      "[    0     1     2 ... 42539 42540 42541] [17018 17019 17020 ... 21269 21270 21271]\n",
      "[    0     1     2 ... 42539 42540 42541] [21272 21273 21274 ... 25523 25524 25525]\n",
      "[    0     1     2 ... 42539 42540 42541] [25526 25527 25528 ... 29777 29778 29779]\n",
      "[    0     1     2 ... 42539 42540 42541] [29780 29781 29782 ... 34031 34032 34033]\n",
      "[    0     1     2 ... 42539 42540 42541] [34034 34035 34036 ... 38285 38286 38287]\n",
      "[    0     1     2 ... 38285 38286 38287] [38288 38289 38290 ... 42539 42540 42541]\n"
     ]
    }
   ],
   "source": [
    "for train_index, test_index in kf.split(data):\n",
    "    print(train_index, test_index)"
   ]
  },
  {
   "cell_type": "code",
   "execution_count": 20,
   "metadata": {},
   "outputs": [],
   "source": [
    "def kfoldaccuracy(model,xtrain,xtest,ytrain,ytest):\n",
    "        model.fit(xtrain,ytrain)\n",
    "        return model.score(xtest,ytest)"
   ]
  },
  {
   "cell_type": "code",
   "execution_count": 21,
   "metadata": {},
   "outputs": [
    {
     "name": "stderr",
     "output_type": "stream",
     "text": [
      "C:\\Users\\prasad\\Anaconda3\\lib\\site-packages\\sklearn\\utils\\validation.py:578: DataConversionWarning: A column-vector y was passed when a 1d array was expected. Please change the shape of y to (n_samples, ), for example using ravel().\n",
      "  y = column_or_1d(y, warn=True)\n"
     ]
    },
    {
     "data": {
      "text/plain": [
       "0.6017551190973673"
      ]
     },
     "execution_count": 21,
     "metadata": {},
     "output_type": "execute_result"
    }
   ],
   "source": [
    "\n",
    "kfoldaccuracy(LogisticRegression(),xtrain,xtest,ytrain,ytest)"
   ]
  },
  {
   "cell_type": "code",
   "execution_count": 22,
   "metadata": {},
   "outputs": [],
   "source": [
    "##decisionTreeModel\n",
    "from sklearn.tree import DecisionTreeClassifier\n",
    "model2 = DecisionTreeClassifier(max_depth=5, min_samples_leaf= 8)"
   ]
  },
  {
   "cell_type": "code",
   "execution_count": 23,
   "metadata": {},
   "outputs": [
    {
     "data": {
      "text/plain": [
       "0.771416631842875"
      ]
     },
     "execution_count": 23,
     "metadata": {},
     "output_type": "execute_result"
    }
   ],
   "source": [
    "kfoldaccuracy(DecisionTreeClassifier(max_depth=5, min_samples_leaf= 8),xtrain,xtest,ytrain,ytest)"
   ]
  },
  {
   "cell_type": "code",
   "execution_count": 24,
   "metadata": {},
   "outputs": [],
   "source": [
    "##knn model\n",
    "from sklearn.neighbors import KNeighborsClassifier  \n",
    "model3 = KNeighborsClassifier(n_neighbors=5) "
   ]
  },
  {
   "cell_type": "code",
   "execution_count": 25,
   "metadata": {},
   "outputs": [
    {
     "name": "stderr",
     "output_type": "stream",
     "text": [
      "C:\\Users\\prasad\\Anaconda3\\lib\\site-packages\\ipykernel_launcher.py:2: DataConversionWarning: A column-vector y was passed when a 1d array was expected. Please change the shape of y to (n_samples, ), for example using ravel().\n",
      "  \n"
     ]
    },
    {
     "data": {
      "text/plain": [
       "0.6025908900961137"
      ]
     },
     "execution_count": 25,
     "metadata": {},
     "output_type": "execute_result"
    }
   ],
   "source": [
    "kfoldaccuracy(KNeighborsClassifier(n_neighbors=5),xtrain,xtest,ytrain,ytest)"
   ]
  },
  {
   "cell_type": "code",
   "execution_count": null,
   "metadata": {},
   "outputs": [],
   "source": []
  },
  {
   "cell_type": "code",
   "execution_count": null,
   "metadata": {},
   "outputs": [],
   "source": []
  }
 ],
 "metadata": {
  "kernelspec": {
   "display_name": "Python 3",
   "language": "python",
   "name": "python3"
  },
  "language_info": {
   "codemirror_mode": {
    "name": "ipython",
    "version": 3
   },
   "file_extension": ".py",
   "mimetype": "text/x-python",
   "name": "python",
   "nbconvert_exporter": "python",
   "pygments_lexer": "ipython3",
   "version": "3.6.5"
  }
 },
 "nbformat": 4,
 "nbformat_minor": 2
}
